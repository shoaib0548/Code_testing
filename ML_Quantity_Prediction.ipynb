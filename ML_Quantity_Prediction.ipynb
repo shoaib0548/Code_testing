{
 "cells": [
  {
   "cell_type": "code",
   "execution_count": 1,
   "id": "4e6bfeac",
   "metadata": {},
   "outputs": [],
   "source": [
    "import pandas as pd\n",
    "import numpy as np\n",
    "import pyspark\n",
    "from pyspark.sql.functions import *\n",
    "from pyspark.sql import SparkSession, Row\n",
    "import matplotlib.pyplot as plt"
   ]
  },
  {
   "cell_type": "code",
   "execution_count": 2,
   "id": "734c8204",
   "metadata": {
    "scrolled": true
   },
   "outputs": [
    {
     "data": {
      "text/html": [
       "\n",
       "            <div>\n",
       "                <p><b>SparkSession - in-memory</b></p>\n",
       "                \n",
       "        <div>\n",
       "            <p><b>SparkContext</b></p>\n",
       "\n",
       "            <p><a href=\"http://192.168.29.117:4040\">Spark UI</a></p>\n",
       "\n",
       "            <dl>\n",
       "              <dt>Version</dt>\n",
       "                <dd><code>v3.3.2</code></dd>\n",
       "              <dt>Master</dt>\n",
       "                <dd><code>local[*]</code></dd>\n",
       "              <dt>AppName</dt>\n",
       "                <dd><code>second_case_study</code></dd>\n",
       "            </dl>\n",
       "        </div>\n",
       "        \n",
       "            </div>\n",
       "        "
      ],
      "text/plain": [
       "<pyspark.sql.session.SparkSession at 0x17a8f47c1f0>"
      ]
     },
     "execution_count": 2,
     "metadata": {},
     "output_type": "execute_result"
    }
   ],
   "source": [
    "spark = SparkSession.builder.appName('second_case_study').getOrCreate()\n",
    "spark"
   ]
  },
  {
   "cell_type": "markdown",
   "id": "c9137b91",
   "metadata": {},
   "source": [
    "### Reading dataset"
   ]
  },
  {
   "cell_type": "code",
   "execution_count": 5,
   "id": "625292ec",
   "metadata": {},
   "outputs": [],
   "source": [
    "data = spark.read.csv('C:\\\\Users\\\\Haque\\\\Downloads\\\\Online Retail1.csv', header=True, inferSchema=True)"
   ]
  },
  {
   "cell_type": "code",
   "execution_count": 6,
   "id": "6007ef37",
   "metadata": {},
   "outputs": [],
   "source": [
    "data2 = data.select('CustomerID','InvoiceDate','Quantity')"
   ]
  },
  {
   "cell_type": "code",
   "execution_count": 8,
   "id": "98cc9cc4",
   "metadata": {},
   "outputs": [],
   "source": [
    "# extracting month year from date\n",
    "data3 = data2.withColumn('InvoiceDate2',substring(col('InvoiceDate'),1,10))\n",
    "data3 = data3.withColumn('Month',(split(col('InvoiceDate2'),'/')[0]))\n",
    "data3 = data3.withColumn('Year',trim(split(col('InvoiceDate2'),'/')[2]))\n",
    "data3 = data3.withColumn('Day',(split(col('InvoiceDate2'),'/')[1]))\n",
    "data3 = data3.withColumn('monyy',concat(split(col('InvoiceDate2'),'/')[0],trim(split(col('InvoiceDate2'),'/')[2])))"
   ]
  },
  {
   "cell_type": "code",
   "execution_count": 9,
   "id": "9c6a7d2f",
   "metadata": {},
   "outputs": [
    {
     "name": "stdout",
     "output_type": "stream",
     "text": [
      "+----------+--------------+--------+------------+-----+----+---+------+\n",
      "|CustomerID|   InvoiceDate|Quantity|InvoiceDate2|Month|Year|Day| monyy|\n",
      "+----------+--------------+--------+------------+-----+----+---+------+\n",
      "|     17850|12/1/2010 8:26|       6|  12/1/2010 |   12|2010|  1|122010|\n",
      "|     17850|12/1/2010 8:26|       6|  12/1/2010 |   12|2010|  1|122010|\n",
      "|     17850|12/1/2010 8:26|       8|  12/1/2010 |   12|2010|  1|122010|\n",
      "|     17850|12/1/2010 8:26|       6|  12/1/2010 |   12|2010|  1|122010|\n",
      "|     17850|12/1/2010 8:26|       6|  12/1/2010 |   12|2010|  1|122010|\n",
      "|     17850|12/1/2010 8:26|       2|  12/1/2010 |   12|2010|  1|122010|\n",
      "|     17850|12/1/2010 8:26|       6|  12/1/2010 |   12|2010|  1|122010|\n",
      "|     17850|12/1/2010 8:28|       6|  12/1/2010 |   12|2010|  1|122010|\n",
      "|     17850|12/1/2010 8:28|       6|  12/1/2010 |   12|2010|  1|122010|\n",
      "|     13047|12/1/2010 8:34|      32|  12/1/2010 |   12|2010|  1|122010|\n",
      "|     13047|12/1/2010 8:34|       6|  12/1/2010 |   12|2010|  1|122010|\n",
      "|     13047|12/1/2010 8:34|       6|  12/1/2010 |   12|2010|  1|122010|\n",
      "|     13047|12/1/2010 8:34|       8|  12/1/2010 |   12|2010|  1|122010|\n",
      "|     13047|12/1/2010 8:34|       6|  12/1/2010 |   12|2010|  1|122010|\n",
      "|     13047|12/1/2010 8:34|       6|  12/1/2010 |   12|2010|  1|122010|\n",
      "|     13047|12/1/2010 8:34|       3|  12/1/2010 |   12|2010|  1|122010|\n",
      "|     13047|12/1/2010 8:34|       2|  12/1/2010 |   12|2010|  1|122010|\n",
      "|     13047|12/1/2010 8:34|       3|  12/1/2010 |   12|2010|  1|122010|\n",
      "|     13047|12/1/2010 8:34|       3|  12/1/2010 |   12|2010|  1|122010|\n",
      "|     13047|12/1/2010 8:34|       4|  12/1/2010 |   12|2010|  1|122010|\n",
      "+----------+--------------+--------+------------+-----+----+---+------+\n",
      "only showing top 20 rows\n",
      "\n"
     ]
    }
   ],
   "source": [
    "data3.show()"
   ]
  },
  {
   "cell_type": "code",
   "execution_count": 11,
   "id": "dc627327",
   "metadata": {},
   "outputs": [],
   "source": [
    "#checking null CustomerID\n",
    "data3.filter((col('CustomerID').isNull())).show()\n",
    "\n",
    "#changing null customer ID to 0 by assuming null customers are the not registered customers hence their id is null\n",
    "data3 = data3.withColumn('CustomerID',when(col('CustomerID').isNull(),0).otherwise(col('CustomerID')))"
   ]
  },
  {
   "cell_type": "code",
   "execution_count": 12,
   "id": "e5320b14",
   "metadata": {},
   "outputs": [],
   "source": [
    "# making buckets for customer id\n",
    "from pyspark.ml.feature import Bucketizer\n",
    "\n",
    "bkt = Bucketizer(splits=[0, 12000, 13000, 14000, 15000, 16000, 17000, 18000, 19000], inputCol='CustomerID',outputCol='CustomerID_grp')\n",
    "data4 = bkt.transform(data3)"
   ]
  },
  {
   "cell_type": "code",
   "execution_count": 13,
   "id": "7d1a9b20",
   "metadata": {},
   "outputs": [
    {
     "name": "stdout",
     "output_type": "stream",
     "text": [
      "+----------+--------------+--------+------------+-----+----+---+------+--------------+\n",
      "|CustomerID|   InvoiceDate|Quantity|InvoiceDate2|Month|Year|Day| monyy|CustomerID_grp|\n",
      "+----------+--------------+--------+------------+-----+----+---+------+--------------+\n",
      "|     17850|12/1/2010 8:26|       6|  12/1/2010 |   12|2010|  1|122010|           6.0|\n",
      "|     17850|12/1/2010 8:26|       6|  12/1/2010 |   12|2010|  1|122010|           6.0|\n",
      "|     17850|12/1/2010 8:26|       8|  12/1/2010 |   12|2010|  1|122010|           6.0|\n",
      "|     17850|12/1/2010 8:26|       6|  12/1/2010 |   12|2010|  1|122010|           6.0|\n",
      "|     17850|12/1/2010 8:26|       6|  12/1/2010 |   12|2010|  1|122010|           6.0|\n",
      "|     17850|12/1/2010 8:26|       2|  12/1/2010 |   12|2010|  1|122010|           6.0|\n",
      "|     17850|12/1/2010 8:26|       6|  12/1/2010 |   12|2010|  1|122010|           6.0|\n",
      "|     17850|12/1/2010 8:28|       6|  12/1/2010 |   12|2010|  1|122010|           6.0|\n",
      "|     17850|12/1/2010 8:28|       6|  12/1/2010 |   12|2010|  1|122010|           6.0|\n",
      "|     13047|12/1/2010 8:34|      32|  12/1/2010 |   12|2010|  1|122010|           2.0|\n",
      "|     13047|12/1/2010 8:34|       6|  12/1/2010 |   12|2010|  1|122010|           2.0|\n",
      "|     13047|12/1/2010 8:34|       6|  12/1/2010 |   12|2010|  1|122010|           2.0|\n",
      "|     13047|12/1/2010 8:34|       8|  12/1/2010 |   12|2010|  1|122010|           2.0|\n",
      "|     13047|12/1/2010 8:34|       6|  12/1/2010 |   12|2010|  1|122010|           2.0|\n",
      "|     13047|12/1/2010 8:34|       6|  12/1/2010 |   12|2010|  1|122010|           2.0|\n",
      "|     13047|12/1/2010 8:34|       3|  12/1/2010 |   12|2010|  1|122010|           2.0|\n",
      "|     13047|12/1/2010 8:34|       2|  12/1/2010 |   12|2010|  1|122010|           2.0|\n",
      "|     13047|12/1/2010 8:34|       3|  12/1/2010 |   12|2010|  1|122010|           2.0|\n",
      "|     13047|12/1/2010 8:34|       3|  12/1/2010 |   12|2010|  1|122010|           2.0|\n",
      "|     13047|12/1/2010 8:34|       4|  12/1/2010 |   12|2010|  1|122010|           2.0|\n",
      "+----------+--------------+--------+------------+-----+----+---+------+--------------+\n",
      "only showing top 20 rows\n",
      "\n"
     ]
    }
   ],
   "source": [
    "data4.show()"
   ]
  },
  {
   "cell_type": "code",
   "execution_count": 14,
   "id": "366a4239",
   "metadata": {},
   "outputs": [
    {
     "data": {
      "text/plain": [
       "Row(CustomerID=0, InvoiceDate=0, Quantity=0, InvoiceDate2=0, Month=0, Year=0, Day=0, monyy=0, CustomerID_grp=0)"
      ]
     },
     "execution_count": 14,
     "metadata": {},
     "output_type": "execute_result"
    }
   ],
   "source": [
    "data4.select([count(when(col(c).isNull(),c)).alias(c) for c in data4.columns]).head()"
   ]
  },
  {
   "cell_type": "code",
   "execution_count": 70,
   "id": "2c8930c4",
   "metadata": {},
   "outputs": [
    {
     "name": "stdout",
     "output_type": "stream",
     "text": [
      "+-------+------------------+---------------+------------------+------------+-----------------+------------------+------------------+-----------------+------------------+\n",
      "|summary|        CustomerID|    InvoiceDate|          Quantity|InvoiceDate2|            Month|              Year|               Day|            monyy|    CustomerID_grp|\n",
      "+-------+------------------+---------------+------------------+------------+-----------------+------------------+------------------+-----------------+------------------+\n",
      "|  count|            531285|         531285|            531285|      531285|           531285|            531285|            531285|           531285|            531285|\n",
      "|   mean|11455.198377518658|           null|10.655262241546438|        null|7.560243560424254|2010.9050269655702|15.024694843633831|82242.28260646672| 2.841011886275728|\n",
      "| stddev|  6795.30407033276|           null|156.83032303670862|        null|3.508716805778585|0.2931780227158318| 8.662156653949872|35089.11735707545|2.2201460489793083|\n",
      "|    min|                 0|1/10/2011 10:32|                 1|  1/10/2011 |                1|              2010|                 1|           102011|               0.0|\n",
      "|    max|             18287|  9/9/2011 9:52|             80995|  9/9/2011 9|                9|            2011 9|                 9|          92011 9|               7.0|\n",
      "+-------+------------------+---------------+------------------+------------+-----------------+------------------+------------------+-----------------+------------------+\n",
      "\n"
     ]
    }
   ],
   "source": [
    "data4.describe().show()"
   ]
  },
  {
   "cell_type": "code",
   "execution_count": 54,
   "id": "b8fe6ea7",
   "metadata": {},
   "outputs": [
    {
     "data": {
      "text/plain": [
       "Row(count(CASE WHEN (Quantity < 0) THEN 0 END)=10624)"
      ]
     },
     "execution_count": 54,
     "metadata": {},
     "output_type": "execute_result"
    }
   ],
   "source": [
    "data4.select([count(when(col('Quantity')<0,0))]).head()"
   ]
  },
  {
   "cell_type": "code",
   "execution_count": 55,
   "id": "408430fa",
   "metadata": {},
   "outputs": [
    {
     "data": {
      "text/plain": [
       "541909"
      ]
     },
     "execution_count": 55,
     "metadata": {},
     "output_type": "execute_result"
    }
   ],
   "source": [
    "data4.count()"
   ]
  },
  {
   "cell_type": "code",
   "execution_count": 57,
   "id": "a568df35",
   "metadata": {},
   "outputs": [],
   "source": [
    "data4 = data4.filter(col('Quantity')>0)"
   ]
  },
  {
   "cell_type": "code",
   "execution_count": 58,
   "id": "6bc53548",
   "metadata": {
    "scrolled": false
   },
   "outputs": [
    {
     "name": "stdout",
     "output_type": "stream",
     "text": [
      "+--------------+------+\n",
      "|CustomerID_grp| count|\n",
      "+--------------+------+\n",
      "|           0.0|133361|\n",
      "|           7.0| 15285|\n",
      "|           1.0| 44956|\n",
      "|           4.0| 64416|\n",
      "|           3.0| 82888|\n",
      "|           2.0| 57127|\n",
      "|           6.0| 70594|\n",
      "|           5.0| 62658|\n",
      "+--------------+------+\n",
      "\n"
     ]
    }
   ],
   "source": [
    "data4.groupBy('CustomerID_grp').count().show()"
   ]
  },
  {
   "cell_type": "markdown",
   "id": "2c5d0561",
   "metadata": {},
   "source": [
    "## Changing the date into numerical variable for regression problem"
   ]
  },
  {
   "cell_type": "code",
   "execution_count": 59,
   "id": "4a382a48",
   "metadata": {},
   "outputs": [],
   "source": [
    "from pyspark.ml.feature import VectorAssembler, OneHotEncoder, StringIndexer\n",
    "\n",
    "sIndex = StringIndexer(inputCols=['monyy'],outputCols=['monyy_indexed'])\n",
    "sIndex_transformed = sIndex.fit(data4).transform(data4)\n",
    "\n",
    "vAssemble = VectorAssembler(inputCols=['CustomerID_grp', 'monyy_indexed'],outputCol='combined_features')\n",
    "vAssemble_transformed = vAssemble.transform(sIndex_transformed)\n",
    "data5 = vAssemble_transformed.select('Quantity','combined_features')"
   ]
  },
  {
   "cell_type": "code",
   "execution_count": 60,
   "id": "789b31fa",
   "metadata": {},
   "outputs": [],
   "source": [
    "# Test Train split\n",
    "test, train = data5.randomSplit([0.3,0.7],seed=123)"
   ]
  },
  {
   "cell_type": "markdown",
   "id": "e898ec03",
   "metadata": {},
   "source": [
    "## Using Linear Regression Model"
   ]
  },
  {
   "cell_type": "code",
   "execution_count": 61,
   "id": "d8ae4f46",
   "metadata": {},
   "outputs": [
    {
     "name": "stdout",
     "output_type": "stream",
     "text": [
      "Coefficients: [1.0277433982624584,0.06413056173581233]\n",
      "Intercept: 7.174540042175528\n"
     ]
    }
   ],
   "source": [
    "from pyspark.ml.regression import LinearRegression\n",
    "\n",
    "lr = LinearRegression(featuresCol = 'combined_features', labelCol='Quantity')\n",
    "lr_model = lr.fit(train)\n",
    "print(\"Coefficients: \" + str(lr_model.coefficients))\n",
    "print(\"Intercept: \" + str(lr_model.intercept))"
   ]
  },
  {
   "cell_type": "markdown",
   "id": "467104f4",
   "metadata": {},
   "source": [
    "### RMSE and R2 for train dataset"
   ]
  },
  {
   "cell_type": "code",
   "execution_count": 62,
   "id": "80d6044a",
   "metadata": {},
   "outputs": [
    {
     "name": "stdout",
     "output_type": "stream",
     "text": [
      "RMSE: 127.776771\n",
      "r2: 0.000325\n"
     ]
    }
   ],
   "source": [
    "trainingSummary = lr_model.summary\n",
    "print(\"RMSE: %f\" % trainingSummary.rootMeanSquaredError)\n",
    "print(\"r2: %f\" % trainingSummary.r2)"
   ]
  },
  {
   "cell_type": "markdown",
   "id": "d26e6384",
   "metadata": {},
   "source": [
    "### Making Predictions"
   ]
  },
  {
   "cell_type": "code",
   "execution_count": 63,
   "id": "dda32a13",
   "metadata": {},
   "outputs": [],
   "source": [
    "predictions = lr_model.transform(test)\n",
    "\n",
    "# lr_predictions.select(\"prediction\",\"MV\",\"features\").show(5)"
   ]
  },
  {
   "cell_type": "code",
   "execution_count": 64,
   "id": "64e9dc51",
   "metadata": {},
   "outputs": [
    {
     "name": "stdout",
     "output_type": "stream",
     "text": [
      "+--------+-----------------+-----------------+\n",
      "|Quantity|combined_features|       prediction|\n",
      "+--------+-----------------+-----------------+\n",
      "|       1|        [0.0,2.0]|7.302801165647153|\n",
      "|       1|        [0.0,2.0]|7.302801165647153|\n",
      "|       1|        [0.0,2.0]|7.302801165647153|\n",
      "|       1|        [0.0,2.0]|7.302801165647153|\n",
      "|       1|        [0.0,2.0]|7.302801165647153|\n",
      "|       1|        [0.0,2.0]|7.302801165647153|\n",
      "|       1|        [0.0,2.0]|7.302801165647153|\n",
      "|       1|        [0.0,2.0]|7.302801165647153|\n",
      "|       1|        [0.0,2.0]|7.302801165647153|\n",
      "|       1|        [0.0,2.0]|7.302801165647153|\n",
      "|       1|        [0.0,2.0]|7.302801165647153|\n",
      "|       1|        [0.0,2.0]|7.302801165647153|\n",
      "|       1|        [0.0,2.0]|7.302801165647153|\n",
      "|       1|        [0.0,2.0]|7.302801165647153|\n",
      "|       1|        [0.0,2.0]|7.302801165647153|\n",
      "|       1|        [0.0,2.0]|7.302801165647153|\n",
      "|       1|        [0.0,2.0]|7.302801165647153|\n",
      "|       1|        [0.0,2.0]|7.302801165647153|\n",
      "|       1|        [0.0,2.0]|7.302801165647153|\n",
      "|       1|        [0.0,2.0]|7.302801165647153|\n",
      "+--------+-----------------+-----------------+\n",
      "only showing top 20 rows\n",
      "\n"
     ]
    }
   ],
   "source": [
    "predictions.show()"
   ]
  },
  {
   "cell_type": "markdown",
   "id": "1acc7545",
   "metadata": {},
   "source": [
    "### Evaluating Predictions"
   ]
  },
  {
   "cell_type": "code",
   "execution_count": 65,
   "id": "6c52a811",
   "metadata": {},
   "outputs": [
    {
     "name": "stdout",
     "output_type": "stream",
     "text": [
      "RMSE: 209.33628822855258\n",
      "R-squared: 0.0001632829653058776\n"
     ]
    }
   ],
   "source": [
    "from pyspark.ml.evaluation import RegressionEvaluator\n",
    "\n",
    "evaluator = RegressionEvaluator(labelCol=\"Quantity\", predictionCol=\"prediction\", metricName=\"rmse\")\n",
    "rmse = evaluator.evaluate(predictions)\n",
    "print(\"RMSE:\", rmse)\n",
    "\n",
    "evaluator = RegressionEvaluator(labelCol=\"Quantity\", predictionCol=\"prediction\", metricName=\"r2\")\n",
    "r2 = evaluator.evaluate(predictions)\n",
    "print(\"R-squared:\", r2)\n",
    "\n"
   ]
  },
  {
   "cell_type": "markdown",
   "id": "1f349bdd",
   "metadata": {},
   "source": [
    "### Tuning model with help of hyperparameters"
   ]
  },
  {
   "cell_type": "code",
   "execution_count": 71,
   "id": "2a2f1e2c",
   "metadata": {},
   "outputs": [],
   "source": [
    "from pyspark.ml.regression import LinearRegression\n",
    "from pyspark.ml.tuning import ParamGridBuilder, CrossValidator\n",
    "\n",
    "# Create a Linear Regression instance\n",
    "lr = LinearRegression(featuresCol='combined_features', labelCol='Quantity')\n",
    "\n",
    "# Define the hyperparameter grid\n",
    "param_grid = ParamGridBuilder() \\\n",
    "    .addGrid(lr.maxIter, [1, 2, 3]) \\\n",
    "    .addGrid(lr.regParam, [0.1, 0.2, 0.3]) \\\n",
    "    .build()\n",
    "\n",
    "# Perform grid search cross-validation\n",
    "crossval = CrossValidator(estimator=lr,\n",
    "                          estimatorParamMaps=param_grid,\n",
    "                          evaluator=RegressionEvaluator(labelCol='Quantity', metricName='rmse'),\n",
    "                          numFolds=3)\n",
    "\n",
    "# Fit the model with the best hyperparameters\n",
    "cv_model = crossval.fit(train)\n",
    "\n",
    "# Get the best model\n",
    "best_model = cv_model.bestModel\n",
    "\n",
    "# Evaluate the model on the test data\n",
    "predictions = best_model.transform(test)\n"
   ]
  },
  {
   "cell_type": "markdown",
   "id": "c0ea8e7f",
   "metadata": {},
   "source": [
    "## Checking params for best model"
   ]
  },
  {
   "cell_type": "code",
   "execution_count": 72,
   "id": "b4db8176",
   "metadata": {},
   "outputs": [
    {
     "name": "stdout",
     "output_type": "stream",
     "text": [
      "Best maxIter:  1\n",
      "Best regParam:  0.1\n"
     ]
    }
   ],
   "source": [
    "best_max_iter = best_model.getMaxIter()\n",
    "best_reg_param = best_model.getRegParam()\n",
    "\n",
    "print(\"Best maxIter: \", best_max_iter)\n",
    "print(\"Best regParam: \", best_reg_param)\n"
   ]
  },
  {
   "cell_type": "code",
   "execution_count": 73,
   "id": "6e62591e",
   "metadata": {},
   "outputs": [
    {
     "name": "stdout",
     "output_type": "stream",
     "text": [
      "RMSE: 209.336292089746\n",
      "R-squared: 0.00016324608146689457\n"
     ]
    }
   ],
   "source": [
    "from pyspark.ml.evaluation import RegressionEvaluator\n",
    "\n",
    "evaluator = RegressionEvaluator(labelCol=\"Quantity\", predictionCol=\"prediction\", metricName=\"rmse\")\n",
    "rmse = evaluator.evaluate(predictions)\n",
    "print(\"RMSE:\", rmse)\n",
    "\n",
    "evaluator = RegressionEvaluator(labelCol=\"Quantity\", predictionCol=\"prediction\", metricName=\"r2\")\n",
    "r2 = evaluator.evaluate(predictions)\n",
    "print(\"R-squared:\", r2)\n",
    "\n"
   ]
  },
  {
   "cell_type": "code",
   "execution_count": null,
   "id": "67881d3b",
   "metadata": {},
   "outputs": [],
   "source": []
  }
 ],
 "metadata": {
  "kernelspec": {
   "display_name": "Python 3 (ipykernel)",
   "language": "python",
   "name": "python3"
  },
  "language_info": {
   "codemirror_mode": {
    "name": "ipython",
    "version": 3
   },
   "file_extension": ".py",
   "mimetype": "text/x-python",
   "name": "python",
   "nbconvert_exporter": "python",
   "pygments_lexer": "ipython3",
   "version": "3.10.9"
  }
 },
 "nbformat": 4,
 "nbformat_minor": 5
}
